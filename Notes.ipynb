{
 "cells": [
  {
   "attachments": {},
   "cell_type": "markdown",
   "metadata": {},
   "source": [
    "#### PROOF OF WORK(PoW)\n",
    "\n",
    "This is how new blocks are created or mined.The goal is discover a number which solves the problem.The number must be difficult to find but easy to verify.\n",
    "\n",
    "Let't decide that the hash of some integer x multiplied by another y must end in 0. So, hash(x*y) = ac23ddx....0.\n"
   ]
  },
  {
   "cell_type": "code",
   "execution_count": 1,
   "metadata": {},
   "outputs": [
    {
     "name": "stdout",
     "output_type": "stream",
     "text": [
      " THe solution is y = 21\n"
     ]
    }
   ],
   "source": [
    "from hashlib import sha256\n",
    "\n",
    "x = 5\n",
    "y = 0\n",
    "while sha256(f\"{x*y}\".encode()).hexdigest()[-1] != \"0\":\n",
    "    y += 1 \n",
    "print(f\" The solution is y = {y}\")"
   ]
  },
  {
   "attachments": {},
   "cell_type": "markdown",
   "metadata": {},
   "source": [
    "In bitcoin, thed PoW algorithm is called hashcash. And it's not too different from our basic example. Its an algorithm  that miners race to solve in order to create a new block. Difficulty is determined by the number of charactes searched for in a string. \n",
    "- And at the and miners will be rewarded.\n"
   ]
  },
  {
   "cell_type": "code",
   "execution_count": null,
   "metadata": {},
   "outputs": [],
   "source": [
    "import hashlib\n",
    "import json\n",
    "\n",
    "from time import time\n",
    "from uuid import uuid4\n",
    "\n",
    "\n",
    "class Blockchain(object):\n",
    "    ...\n",
    "        \n",
    "    def proof_of_work(self, last_proof):\n",
    "        \"\"\"\n",
    "        Simple Proof of Work Algorithm:\n",
    "         - Find a number p' such that hash(pp') contains leading 4 zeroes, where p is the previous p'\n",
    "         - p is the previous proof, and p' is the new proof\n",
    "        :param last_proof: <int>\n",
    "        :return: <int>\n",
    "        \"\"\"\n",
    "\n",
    "        proof = 0\n",
    "        while self.valid_proof(last_proof, proof) is False:\n",
    "            proof += 1\n",
    "\n",
    "        return proof\n",
    "\n",
    "    @staticmethod\n",
    "    def valid_proof(last_proof, proof):\n",
    "        \"\"\"\n",
    "        Validates the Proof: Does hash(last_proof, proof) contain 4 leading zeroes?\n",
    "        :param last_proof: <int> Previous Proof\n",
    "        :param proof: <int> Current Proof\n",
    "        :return: <bool> True if correct, False if not.\n",
    "        \"\"\"\n",
    "\n",
    "        guess = f'{last_proof}{proof}'.encode()\n",
    "        guess_hash = hashlib.sha256(guess).hexdigest()\n",
    "        return guess_hash[:4] == \"0000\""
   ]
  }
 ],
 "metadata": {
  "kernelspec": {
   "display_name": "Python 3",
   "language": "python",
   "name": "python3"
  },
  "language_info": {
   "codemirror_mode": {
    "name": "ipython",
    "version": 3
   },
   "file_extension": ".py",
   "mimetype": "text/x-python",
   "name": "python",
   "nbconvert_exporter": "python",
   "pygments_lexer": "ipython3",
   "version": "3.10.7"
  },
  "orig_nbformat": 4
 },
 "nbformat": 4,
 "nbformat_minor": 2
}
